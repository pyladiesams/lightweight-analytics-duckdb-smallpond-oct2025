{
 "cells": [
  {
   "metadata": {},
   "cell_type": "markdown",
   "source": [
    "# Smallpond Lightweight Analytics at Scale\n",
    "\n",
    "In today’s data landscape, teams often face a trade-off between simplicity and scale. Traditional analytics stacks can be heavy, costly, and complex to get started, especially when the goal is to move fast and process big data efficiently. Smallpond bridges that gap by focusing on:\n",
    "\n",
    "⚡ Speed — Fast setup and minimal overhead for transformation of big data.\n",
    "\n",
    "📦 Simplicity — Simple interfaces and modular components that just work.\n",
    "\n",
    "☁️ Scalability — Designed to handle distributed data workloads seamlessly.\n",
    "\n",
    "🧩 Interoperability — Works with common data formats and integrates smoothly with existing tools like pandas and duckdb.\n",
    "\n",
    "In this notebook, we’ll explore how Smallpond can be used to build lightweight, high-performance transformation pipelines.\n",
    "\n",
    "But first we need to setup the environment and infrastructure to really test it's functionality"
   ],
   "id": "8a77807f92f26ee"
  },
  {
   "metadata": {},
   "cell_type": "markdown",
   "source": [
    "## Virtual environment creation\n",
    "\n",
    "### Is very important to create the environment with Python 3.11.11 because this version needs to match Ray's Python compatibility version.\n",
    "If you don't have this version you can install it with:  ```pyenv install 3.11.11```\n",
    "1. Create a Virtual Environment\n",
    "This command creates a new virtual environment in a folder named venv.\n",
    "```sh\n",
    "python3 -m venv venv\n",
    "source venv/bin/activate\n",
    "\n",
    "```\n",
    "2. Activate the Virtual Environment\n",
    "On macOS/Linux:\n",
    "```sh\n",
    "source venv/bin/activate\n",
    "```\n",
    "On Windows (Command Prompt):\n",
    "```sh\n",
    "venv\\Scripts\\activate\n",
    "```\n",
    "\n",
    "You should now see (venv) appear at the start of your terminal prompt — this means your environment is active.\n",
    "\n",
    "3. Install Dependencies\n",
    "```sh\n",
    "pip install -r requirements.txt\n",
    "```\n",
    "This installs all the necessary libraries specified in the requirements.txt file.\n",
    "\n",
    "\n"
   ],
   "id": "848be4e158da0200"
  },
  {
   "metadata": {},
   "cell_type": "markdown",
   "source": [
    "## Installation of Docker and Docker Compose\n",
    "### Installation for Windows\n",
    "https://docs.docker.com/desktop/setup/install/windows-install/\n",
    "### Installation for MacOS\n",
    "https://docs.docker.com/desktop/setup/install/mac-install/\n",
    "### Installation for Linux\n",
    "https://docs.docker.com/desktop/setup/install/linux/\n"
   ],
   "id": "d4f6fd700d5cfd1b"
  },
  {
   "metadata": {},
   "cell_type": "markdown",
   "source": [
    "## Running Jupyter Notebooks\n",
    "Having the virtual environment activated you should just run:\n",
    "```sh\n",
    " jupyter notebook --port 8889\n",
    "```\n",
    "Which will open a new window in the navigator with all the folders of this project.\n"
   ],
   "id": "763700087c130000"
  },
  {
   "metadata": {},
   "cell_type": "markdown",
   "source": [
    "## Building and deploying and testing the docker-compose infrastructure locally\n",
    "\n",
    "1. Verify Docker and Docker Compose are available:\n",
    "```sh\n",
    "docker --version\n",
    "docker compose version\n",
    "```\n",
    "2. Build your images\n",
    "From your project root (where docker-compose.yml is located), run:\n",
    "```sh\n",
    "docker compose build\n",
    "```\n",
    "This command reads your docker-compose.yml, builds any services that use the build: directive, and downloads the necessary base images.\n",
    "\n",
    "3. Run the docker container\n",
    "```sh\n",
    "docker compose up -d\n",
    "```\n",
    "This will start all services defined in your docker-compose.yml\n",
    "\n",
    "To stop all running containers, run:\n",
    "```sh\n",
    "docker compose down -v\n",
    "```\n",
    "\n",
    "If you make changes to the code or yml you can also re-build with:\n",
    "```sh\n",
    "docker compose up -d --build\n",
    "```\n",
    "\n",
    "\n"
   ],
   "id": "60933d7c524bb7de"
  },
  {
   "metadata": {},
   "cell_type": "markdown",
   "source": "# Your local environment is ready now to start testing! let's go to Smallpond.ipynb to test that everything is working correctly\n",
   "id": "c577956e7a10f3b3"
  }
 ],
 "metadata": {
  "kernelspec": {
   "display_name": "Python 3",
   "language": "python",
   "name": "python3"
  },
  "language_info": {
   "codemirror_mode": {
    "name": "ipython",
    "version": 2
   },
   "file_extension": ".py",
   "mimetype": "text/x-python",
   "name": "python",
   "nbconvert_exporter": "python",
   "pygments_lexer": "ipython2",
   "version": "2.7.6"
  }
 },
 "nbformat": 4,
 "nbformat_minor": 5
}
