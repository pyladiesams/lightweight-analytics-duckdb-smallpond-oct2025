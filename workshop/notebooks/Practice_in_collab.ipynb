{
 "cells": [
  {
   "metadata": {},
   "cell_type": "markdown",
   "source": [
    "# Excercises\n",
    "\n",
    "Let's Explore Smallpond Functionalities"
   ],
   "id": "8a77807f92f26ee"
  },
  {
   "metadata": {},
   "cell_type": "markdown",
   "source": "## Imports",
   "id": "a3ce8cedf6fbb76c"
  },
  {
   "metadata": {},
   "cell_type": "code",
   "source": [
    "import pandas as pd\n",
    "from smallpond import init as smallpond_init"
   ],
   "id": "7167f352b6c8b04b",
   "outputs": [],
   "execution_count": null
  },
  {
   "metadata": {},
   "cell_type": "markdown",
   "source": "## Initialize everything",
   "id": "1dc378411c80487a"
  },
  {
   "metadata": {},
   "cell_type": "code",
   "source": "sp = smallpond_init(job_name=\"ProcessingTest\")",
   "id": "be4ec6ff76334961",
   "outputs": [],
   "execution_count": null
  },
  {
   "metadata": {},
   "cell_type": "markdown",
   "source": "# Pandas equivalents",
   "id": "342ed2304a706a87"
  },
  {
   "metadata": {},
   "cell_type": "markdown",
   "source": "Read a parquet File",
   "id": "aa7bb00e3f7d7888"
  },
  {
   "metadata": {},
   "cell_type": "code",
   "source": [
    "#Pandas\n",
    "df = pd.read_parquet(\"sample.parquet\")\n",
    "df"
   ],
   "id": "4bc4a7831ca6bfb",
   "outputs": [],
   "execution_count": null
  },
  {
   "metadata": {},
   "cell_type": "code",
   "source": [
    "#Smallpond\n",
    "sdf = sp.read_parquet(\"sample.parquet\")\n",
    "print(sdf.take(10))"
   ],
   "id": "63faec142b5440cc",
   "outputs": [],
   "execution_count": null
  },
  {
   "metadata": {},
   "cell_type": "markdown",
   "source": "Convert a PyArrow df to pandas (could be a result from smallpond)",
   "id": "63857118b4b46a6a"
  },
  {
   "metadata": {},
   "cell_type": "code",
   "source": "print(sdf.to_pandas())",
   "id": "1b55a1d0f72c507d",
   "outputs": [],
   "execution_count": null
  },
  {
   "metadata": {},
   "cell_type": "markdown",
   "source": "Save a Data Frame to a Parquet file",
   "id": "6ddc19736b038b1f"
  },
  {
   "metadata": {},
   "cell_type": "code",
   "source": [
    "#Pandas\n",
    "df.to_parquet(output_path=\"new.parquet\")"
   ],
   "id": "7e31c6890e470299",
   "outputs": [],
   "execution_count": null
  },
  {
   "metadata": {},
   "cell_type": "code",
   "source": [
    "#Smallpond\n",
    "sdf.write_parquet(\"new_sp.parquet\")"
   ],
   "id": "339be74c2cf7587f",
   "outputs": [],
   "execution_count": null
  },
  {
   "metadata": {},
   "cell_type": "markdown",
   "source": "Filter conditions",
   "id": "b3a6ee764a83642d"
  },
  {
   "metadata": {},
   "cell_type": "code",
   "source": [
    "# Pandas\n",
    "filtered_df = df[df[\"model\"] == \"ST4000DM000\"]\n",
    "filtered_df.head()"
   ],
   "id": "7e0539c7f850c38a",
   "outputs": [],
   "execution_count": null
  },
  {
   "metadata": {},
   "cell_type": "code",
   "source": [
    "# Smallpond filter\n",
    "\n",
    "filtered_sdf = sdf.filter(\"model = 'ST4000DM000'\")\n",
    "print(filtered_sdf.take(10))"
   ],
   "id": "725c653a48f307d9",
   "outputs": [],
   "execution_count": null
  },
  {
   "metadata": {},
   "cell_type": "markdown",
   "source": "Mapped execution/ Apply",
   "id": "e03d959a718d1a6"
  },
  {
   "metadata": {},
   "cell_type": "code",
   "source": [
    "#Pandas\n",
    "df[\"total_1_3\"] = df[\"smart_1_normalized\"] + df[\"smart_3_normalized\"]\n",
    "df[\"total_1_3\"]"
   ],
   "id": "cfae0e2f68e85efa",
   "outputs": [],
   "execution_count": null
  },
  {
   "metadata": {},
   "cell_type": "code",
   "source": [
    "# Smallpond\n",
    "sdf = sdf.map(\"smart_1_normalized + smart_3_normalized as total_1_3\")\n",
    "print(sdf.to_pandas()[\"total_1_3\"])"
   ],
   "id": "6583c3dfe983ba70",
   "outputs": [],
   "execution_count": null
  },
  {
   "metadata": {},
   "cell_type": "markdown",
   "source": "# Smallpond Specifics",
   "id": "5b59b75df1ccc9bc"
  },
  {
   "metadata": {},
   "cell_type": "markdown",
   "source": "Partial SQL Query, Executes the query over the distributed data",
   "id": "6af0031426a73512"
  },
  {
   "metadata": {},
   "cell_type": "code",
   "source": [
    "results_df = sp.partial_sql(\"SELECT datacenter, SUM(smart_1_normalized) FROM {0} GROUP BY datacenter\", sdf)\n",
    "results_df.take(10)"
   ],
   "id": "9c989f26d1b514a3",
   "outputs": [],
   "execution_count": null
  },
  {
   "metadata": {},
   "cell_type": "markdown",
   "source": "Repartitioning output\n",
   "id": "b89836ef2bd476bf"
  },
  {
   "metadata": {},
   "cell_type": "code",
   "source": [
    "num_partitions = 5\n",
    "sdf = sdf.repartition(num_partitions, hash_by=\"datacenter\")\n",
    "sdf.write_parquet(\"new_sp_directory\")"
   ],
   "id": "321ed05f6cb50f1b",
   "outputs": [],
   "execution_count": null
  }
 ],
 "metadata": {
  "kernelspec": {
   "display_name": "Python 3",
   "language": "python",
   "name": "python3"
  },
  "language_info": {
   "codemirror_mode": {
    "name": "ipython",
    "version": 2
   },
   "file_extension": ".py",
   "mimetype": "text/x-python",
   "name": "python",
   "nbconvert_exporter": "python",
   "pygments_lexer": "ipython2",
   "version": "2.7.6"
  }
 },
 "nbformat": 4,
 "nbformat_minor": 5
}
