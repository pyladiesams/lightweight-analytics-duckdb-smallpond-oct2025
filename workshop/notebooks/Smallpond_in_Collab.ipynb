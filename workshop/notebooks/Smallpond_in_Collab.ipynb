{
 "cells": [
  {
   "metadata": {},
   "cell_type": "markdown",
   "source": [
    "# Smallpond\n",
    "\n",
    "In this Notebook we will be focusing in testing the current environment and getting to know the tools that are involved"
   ],
   "id": "8a77807f92f26ee"
  },
  {
   "metadata": {},
   "cell_type": "markdown",
   "source": "## Installation",
   "id": "93ea72c734ff4019"
  },
  {
   "metadata": {},
   "cell_type": "code",
   "outputs": [],
   "execution_count": null,
   "source": [
    "!pip install pyarrow\n",
    "!pip install pandas\n",
    "!pip install duckdb\n",
    "!pip install smallpond"
   ],
   "id": "efd9db185554b0a1"
  },
  {
   "metadata": {},
   "cell_type": "markdown",
   "source": "## Imports",
   "id": "c016e26383dd2cf7"
  },
  {
   "metadata": {
    "ExecuteTime": {
     "end_time": "2025-10-21T20:54:23.179815Z",
     "start_time": "2025-10-21T20:54:20.462843Z"
    }
   },
   "cell_type": "code",
   "source": [
    "import duckdb\n",
    "import pandas as pd\n",
    "import pyarrow.parquet as pq\n",
    "from smallpond import init as smallpond_init"
   ],
   "id": "fbc121e30a2defb3",
   "outputs": [],
   "execution_count": 2
  },
  {
   "metadata": {},
   "cell_type": "markdown",
   "source": [
    "## Testing pandas and duckdb\n",
    "In the following code you will create a simple pandas dataframe and then query it with duckdb and SQL"
   ],
   "id": "5aec3124be47df77"
  },
  {
   "metadata": {
    "ExecuteTime": {
     "end_time": "2025-10-21T20:54:24.993981Z",
     "start_time": "2025-10-21T20:54:24.985217Z"
    }
   },
   "cell_type": "code",
   "source": [
    "df = pd.DataFrame({\"value\": [10, 20, 30, 40, 50]})\n",
    "result = duckdb.query(\"SELECT AVG(value) AS avg_value FROM df\").to_df()\n",
    "print(result)"
   ],
   "id": "a2f03bbdc36a1c8d",
   "outputs": [
    {
     "name": "stdout",
     "output_type": "stream",
     "text": [
      "   avg_value\n",
      "0       30.0\n"
     ]
    }
   ],
   "execution_count": 3
  },
  {
   "metadata": {},
   "cell_type": "markdown",
   "source": [
    "## Testing Smallpond\n",
    "Make sure to upload the sample.parquet file to your collab environment before executing the following"
   ],
   "id": "cd810435906c92c8"
  },
  {
   "metadata": {},
   "cell_type": "code",
   "source": [
    "# Initialize session\n",
    "sp = smallpond_init()\n",
    "# Read the parquet file\n",
    "df = sp.read_parquet(\"sample.parquet\")\n",
    "print(df.take(10))"
   ],
   "id": "ecba9537f87362b4",
   "outputs": [],
   "execution_count": null
  },
  {
   "metadata": {},
   "cell_type": "markdown",
   "source": "### Now let's check the Smallpond Dashboard",
   "id": "88ed815d69bfd4f3"
  }
 ],
 "metadata": {
  "kernelspec": {
   "display_name": "Python 3",
   "language": "python",
   "name": "python3"
  },
  "language_info": {
   "codemirror_mode": {
    "name": "ipython",
    "version": 2
   },
   "file_extension": ".py",
   "mimetype": "text/x-python",
   "name": "python",
   "nbconvert_exporter": "python",
   "pygments_lexer": "ipython2",
   "version": "2.7.6"
  }
 },
 "nbformat": 4,
 "nbformat_minor": 5
}
