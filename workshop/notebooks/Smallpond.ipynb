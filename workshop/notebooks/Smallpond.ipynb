{
 "cells": [
  {
   "cell_type": "markdown",
   "id": "8a77807f92f26ee",
   "metadata": {},
   "source": [
    "# Smallpond\n",
    "\n",
    "In this Notebook we will be focusing in testing the current environment and getting to know the tools that are involved"
   ]
  },
  {
   "cell_type": "markdown",
   "id": "c016e26383dd2cf7",
   "metadata": {},
   "source": [
    "## Imports"
   ]
  },
  {
   "cell_type": "code",
   "execution_count": 1,
   "id": "fbc121e30a2defb3",
   "metadata": {
    "ExecuteTime": {
     "end_time": "2025-10-21T20:54:23.179815Z",
     "start_time": "2025-10-21T20:54:20.462843Z"
    }
   },
   "outputs": [],
   "source": [
    "import ray\n",
    "from minio import Minio\n",
    "import os\n",
    "import duckdb\n",
    "import pandas as pd\n",
    "import pyarrow.parquet as pq\n",
    "from smallpond import init as smallpond_init"
   ]
  },
  {
   "cell_type": "markdown",
   "id": "5aec3124be47df77",
   "metadata": {},
   "source": [
    "## Testing pandas and duckdb\n",
    "In the following code you will create a simple pandas dataframe and then query it with duckdb and SQL"
   ]
  },
  {
   "cell_type": "code",
   "execution_count": 2,
   "id": "a2f03bbdc36a1c8d",
   "metadata": {
    "ExecuteTime": {
     "end_time": "2025-10-21T20:54:24.993981Z",
     "start_time": "2025-10-21T20:54:24.985217Z"
    }
   },
   "outputs": [
    {
     "name": "stdout",
     "output_type": "stream",
     "text": [
      "   avg_value\n",
      "0       30.0\n"
     ]
    }
   ],
   "source": [
    "df = pd.DataFrame({\"value\": [10, 20, 30, 40, 50]})\n",
    "result = duckdb.query(\"SELECT AVG(value) AS avg_value FROM df\").to_df()\n",
    "print(result)"
   ]
  },
  {
   "cell_type": "markdown",
   "id": "b676909e1ac6b922",
   "metadata": {},
   "source": [
    "## Testing Ray\n",
    "You need to initialize Ray before running Smallpond. By sending the parameter address we are making sure to point to the correct Ray cluster."
   ]
  },
  {
   "cell_type": "code",
   "execution_count": 3,
   "id": "bd8ccaf1518d8a80",
   "metadata": {},
   "outputs": [
    {
     "name": "stdout",
     "output_type": "stream",
     "text": [
      "initializing ray>>>>\n",
      "Connected to Ray cluster: {'object_store_memory': 7142218137.0, 'node:172.18.0.5': 1.0, 'CPU': 36.0, 'node:172.18.0.4': 1.0, 'node:172.18.0.3': 1.0, 'node:__internal_head__': 1.0, 'memory': 15904223233.0}\n"
     ]
    }
   ],
   "source": [
    "print(\"initializing ray>>>>\")\n",
    "ray.init(address=\"ray://localhost:10001\")  # Connects to ray-head which is running inside the cluster\n",
    "print(\"Connected to Ray cluster:\", ray.cluster_resources())\n"
   ]
  },
  {
   "cell_type": "code",
   "execution_count": 4,
   "id": "2843aabce3d96ed6",
   "metadata": {},
   "outputs": [
    {
     "name": "stdout",
     "output_type": "stream",
     "text": [
      "Running Ray tasks...\n",
      "Results: [0, 1, 4, 9]\n",
      "Shutting down Ray\n"
     ]
    }
   ],
   "source": [
    "@ray.remote\n",
    "def f(x):\n",
    "    return x * x\n",
    "\n",
    "print(\"Running Ray tasks...\")\n",
    "results = ray.get([f.remote(i) for i in range(4)])\n",
    "print(\"Results:\", results)\n",
    "\n",
    "print(\"Shutting down Ray\")\n",
    "ray.shutdown()"
   ]
  },
  {
   "cell_type": "markdown",
   "id": "655e1f92add004f1",
   "metadata": {},
   "source": [
    "If you don't initialize ray then Smallpond will initialize a single node local ray cluster but in that case we are missing the distribution power of Smallpond."
   ]
  },
  {
   "cell_type": "markdown",
   "id": "d96c89ac25aa23d9",
   "metadata": {},
   "source": [
    "## Testing MinIO"
   ]
  },
  {
   "cell_type": "code",
   "execution_count": 6,
   "id": "94232eadd748b68e",
   "metadata": {},
   "outputs": [
    {
     "name": "stdout",
     "output_type": "stream",
     "text": [
      "Bucket already exists: my-data\n",
      "File 'sample.parquet' uploaded as 'data/sample.parquet' to bucket 'my-data'.\n"
     ]
    }
   ],
   "source": [
    "# Connect to MinIO\n",
    "minio_client = Minio(\n",
    "    endpoint=os.environ.get(\"MINIO_ENDPOINT\", \"http://localhost:9000\").replace(\"http://\", \"\"),\n",
    "    access_key=os.environ.get(\"MINIO_ACCESS_KEY\", \"minioadmin\"),\n",
    "    secret_key=os.environ.get(\"MINIO_SECRET_KEY\", \"minioadmin\"),\n",
    "    secure=False,\n",
    ")\n",
    "\n",
    "# Create a bucket if it doesn’t exist\n",
    "bucket_name = \"my-data\"\n",
    "if not minio_client.bucket_exists(bucket_name):\n",
    "    minio_client.make_bucket(bucket_name)\n",
    "    print(f\"Created bucket: {bucket_name}\")\n",
    "else:\n",
    "    print(f\"Bucket already exists: {bucket_name}\")\n",
    "\n",
    "object_name = \"data/sample.parquet\"\n",
    "local_file_path = \"sample.parquet\"  # \"/Full/ path /to /your /file/data/sample.parquet\"\n",
    "# Upload the file\n",
    "minio_client.fput_object(\n",
    "            bucket_name,\n",
    "            object_name,\n",
    "            local_file_path,\n",
    ")\n",
    "print(f\"File '{local_file_path}' uploaded as '{object_name}' to bucket '{bucket_name}'.\")"
   ]
  },
  {
   "cell_type": "markdown",
   "id": "6ec647a1577c82a2",
   "metadata": {},
   "source": [
    "### Let's go to the MinIO dashboard"
   ]
  },
  {
   "cell_type": "markdown",
   "id": "cd810435906c92c8",
   "metadata": {},
   "source": [
    "## Testing Smallpond\n",
    "In your virtual environment make sure to have the correct MinIO credentials running the following line:"
   ]
  },
  {
   "metadata": {
    "ExecuteTime": {
     "end_time": "2025-10-22T02:45:16.825982Z",
     "start_time": "2025-10-22T02:45:16.822379Z"
    }
   },
   "cell_type": "code",
   "source": [
    "os.environ[\"AWS_ACCESS_KEY_ID\"] = \"minioadmin\"\n",
    "os.environ[\"AWS_SECRET_ACCESS_KEY\"] = \"minioadmin\"\n",
    "os.environ[\"AWS_REGION\"] = \"us-east-1\"\n",
    "os.environ[\"AWS_ENDPOINT_URL\"] = \"http://localhost:9000\""
   ],
   "id": "3b8ea550a3993a48",
   "outputs": [],
   "execution_count": 5
  },
  {
   "metadata": {},
   "cell_type": "markdown",
   "source": "This way we can pull data directly like we do from an S3 bucket with the notation: s3://",
   "id": "f0a600b15a5c8e34"
  },
  {
   "cell_type": "code",
   "execution_count": null,
   "id": "ecba9537f87362b4",
   "metadata": {},
   "outputs": [],
   "source": [
    "# Get's the data from the parquet file (in your bucket) using PyArrow\n",
    "a_table = pq.read_table(\"s3://my-data/data/sample.parquet\")"
   ]
  },
  {
   "cell_type": "markdown",
   "id": "c9079e023d8aad15",
   "metadata": {},
   "source": [
    "Initialize Ray and Smallpond"
   ]
  },
  {
   "cell_type": "code",
   "execution_count": null,
   "id": "85c66f4012db95fc",
   "metadata": {},
   "outputs": [],
   "source": [
    "# Initialize Ray\n",
    "ray.init(address=\"ray://localhost:10001\")\n",
    "\n",
    "# Smallpond is pointing the ray head at ray://localhost:10001\n",
    "sp = smallpond_init(job_name=\"ProcessingTest\", ray_address=\"ray://localhost:10001\", data_root=\"data\", num_executors=2, bind_numa_node=False, executor_resources={\"CPU\": 4,\"memory\": 8,\"object_store_memory\": 2*1024})\n",
    "\n",
    "df = sp.from_arrow(a_table)\n",
    "print(df.take(10))\n",
    "\n",
    "# Shuts down Ray\n",
    "ray.shutdown()"
   ]
  },
  {
   "cell_type": "markdown",
   "id": "88ed815d69bfd4f3",
   "metadata": {},
   "source": [
    "### Now let's check the Smallpond Dashboard"
   ]
  }
 ],
 "metadata": {
  "kernelspec": {
   "display_name": "Python 3 (ipykernel)",
   "language": "python",
   "name": "python3"
  },
  "language_info": {
   "codemirror_mode": {
    "name": "ipython",
    "version": 3
   },
   "file_extension": ".py",
   "mimetype": "text/x-python",
   "name": "python",
   "nbconvert_exporter": "python",
   "pygments_lexer": "ipython3",
   "version": "3.11.11"
  }
 },
 "nbformat": 4,
 "nbformat_minor": 5
}
